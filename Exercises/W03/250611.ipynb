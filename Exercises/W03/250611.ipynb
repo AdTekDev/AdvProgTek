{
 "cells": [
  {
   "cell_type": "markdown",
   "id": "a9b2395c",
   "metadata": {},
   "source": [
    "## class - HMS \n",
    "- https://github.com/AdTekDev/AdvProgTek/tree/main/Exercises/W03 "
   ]
  },
  {
   "cell_type": "code",
   "execution_count": 1,
   "id": "91b95c48",
   "metadata": {},
   "outputs": [],
   "source": [
    "import numpy as np \n",
    "import random \n",
    "import math \n",
    "from enum import Enum "
   ]
  },
  {
   "cell_type": "code",
   "execution_count": 2,
   "id": "123f5a1a",
   "metadata": {},
   "outputs": [],
   "source": [
    "\n",
    "class AccountStatus(Enum):\n",
    "    ACTIVE = 1\n",
    "    CLOSED = 2\n",
    "    CANCELED = 3\n",
    "    BLACKLISTED = 4\n",
    "    \n",
    "class AccountType(Enum):\n",
    "    MEMBER = 1\n",
    "    GUEST = 2\n",
    "    MANAGER = 3\n",
    "    RECEPTIONIST = 4\n",
    "    \n",
    "class BookingStatus(Enum):\n",
    "    REQUESTED = 1\n",
    "    PENDING = 2\n",
    "    CONFIRMED = 3\n",
    "    CANCELED = 4\n",
    "    CHECKED_IN = 5\n",
    "    CHECKED_OUT = 6\n",
    "    ABANDONED = 7\n",
    "    \n",
    "class RoomStatus(Enum):\n",
    "    AVAILABLE = 1\n",
    "    RESERVED = 2\n",
    "    OCCUPIED = 3\n",
    "    NOTAVAILABLE = 4\n",
    "    BEINGSERVICED = 5\n",
    "    MAINTENANCE = 6\n",
    "    OTHER = 7\n",
    "    \n",
    "class PaymentStatus(Enum):\n",
    "    UNPAID = 1\n",
    "    PENDING = 2\n",
    "    COMPLETED = 3\n",
    "    FAILED = 4\n",
    "    DECLINED = 5\n",
    "    CANCELED = 6\n",
    "    ABANDONED = 7\n",
    "    SETTLING = 8\n",
    "    SETTLED = 9\n",
    "    REFUNDED = 10\n",
    "    \n",
    "class RoomStyle(Enum):\n",
    "    STANDARD = 1\n",
    "    DELUXE = 2\n",
    "    FAMILY_SUITE = 3\n",
    "    BUSINESS_SUITE = 4\n",
    "    "
   ]
  },
  {
   "cell_type": "code",
   "execution_count": 29,
   "id": "fe34d2d5",
   "metadata": {},
   "outputs": [],
   "source": [
    "class Address:\n",
    "    def __init__(self, street:str, city:str, state:str, zipCode:str, country:str):\n",
    "        self.streetAddress = street\n",
    "        self.city = city\n",
    "        self.state = state\n",
    "        self.zipcode = zipCode\n",
    "        self.country = country\n",
    "        self._exists = True\n",
    "    \n",
    "    @classmethod\n",
    "    def init(cls):\n",
    "        obj = cls(\"\", \"\", \"\", \"\", \"\")\n",
    "        obj._exists = False\n",
    "        return obj\n",
    "    \n",
    "    def __str__(self):\n",
    "        return f\"{self.streetAddress}, {self.city}, {self.state}, {self.zipcode}, {self.country}\"   \n",
    "    \n",
    "    def to_string(self):\n",
    "        return f\"{self.streetAddress}, {self.city}, {self.state}, {self.zipcode}, {self.country}\""
   ]
  },
  {
   "cell_type": "code",
   "execution_count": 5,
   "id": "f07d812d",
   "metadata": {},
   "outputs": [],
   "source": [
    "class Account:\n",
    "    def __init__(self, id:int, password:str, status:AccountStatus):\n",
    "        self.id = id\n",
    "        self.status = status\n",
    "        self.password = password\n",
    "        \n",
    "    def resetPassword(self):\n",
    "        return False \n",
    "    \n",
    "    def changePassword(self, currentPassword:str, newPassword:str):\n",
    "        if self.password == currentPassword:\n",
    "            self.password = newPassword\n",
    "            return True\n",
    "        else:\n",
    "            return False\n",
    "    "
   ]
  },
  {
   "cell_type": "code",
   "execution_count": 42,
   "id": "ace228d2",
   "metadata": {},
   "outputs": [],
   "source": [
    "class Person:\n",
    "    def __init__(self, id:int, name:str, address:Address, email:str, phone:str):\n",
    "        self.id = id\n",
    "        self.name = name\n",
    "        self.address = address\n",
    "        self.email = email\n",
    "        self.phone = phone\n",
    "        self.account = None\n",
    "        self.accountType = None \n",
    "        self._exists = False\n",
    "        \n",
    "    def set_account(self, account:Account, accountType:AccountType): \n",
    "        self.account = account\n",
    "        self.accountType = accountType\n",
    "        self._exists = True\n",
    "        \n",
    "    def get_account(self):\n",
    "        return self.account\n",
    "        \n",
    "    def get_accountType(self):\n",
    "        return self.accountType\n",
    "        \n",
    "    def set_accountType(self, accountType:AccountType):\n",
    "        self.accountType = accountType\n",
    "        \n",
    "    def get_id(self):\n",
    "        return self.id\n",
    "        \n",
    "    def get_name(self):\n",
    "        return self.name\n",
    "        \n",
    "    def get_address(self):\n",
    "        return self.address\n",
    "        \n",
    "    def set_address(self, address:Address):\n",
    "        self.address = address\n",
    "    def get_email(self):\n",
    "        return self.email\n",
    "       \n",
    "    def set_email(self, email:str):\n",
    "        self.email = email \n",
    "    def get_phone(self):\n",
    "        return self.phone\n",
    "\n",
    "    def set_phone(self, phone:str):\n",
    "        self.phone = phone    \n",
    "        \n",
    "    def __str__(self):\n",
    "        return f\"{self.name} [{self.address.to_string()}, {self.email}, {self.phone}]\""
   ]
  },
  {
   "cell_type": "code",
   "execution_count": 45,
   "id": "4caca847",
   "metadata": {},
   "outputs": [],
   "source": [
    "diachi = Address(\"123 Nguyen Van Linh\", \"HCM\", \"HCM\", \"700000\", \"VN\")"
   ]
  },
  {
   "cell_type": "code",
   "execution_count": 31,
   "id": "3086022e",
   "metadata": {},
   "outputs": [
    {
     "data": {
      "text/plain": [
       "(<__main__.Address at 0x28d434438f0>, ', , , , ')"
      ]
     },
     "execution_count": 31,
     "metadata": {},
     "output_type": "execute_result"
    }
   ],
   "source": [
    "abc  =  Address.init()\n",
    "abc ,  str(abc)"
   ]
  },
  {
   "cell_type": "code",
   "execution_count": 46,
   "id": "70f26513",
   "metadata": {},
   "outputs": [
    {
     "data": {
      "text/plain": [
       "<__main__.Person at 0x28d52e17290>"
      ]
     },
     "execution_count": 46,
     "metadata": {},
     "output_type": "execute_result"
    }
   ],
   "source": [
    "oMinh = Person(1, \n",
    "               \"Minh\", \n",
    "               diachi\n",
    "               ,\n",
    "               \"minh@gmail.com\", \n",
    "               \"08234567\")\n",
    "oMinh"
   ]
  },
  {
   "cell_type": "code",
   "execution_count": 36,
   "id": "ba0b0370",
   "metadata": {},
   "outputs": [
    {
     "data": {
      "text/plain": [
       "', , , , '"
      ]
     },
     "execution_count": 36,
     "metadata": {},
     "output_type": "execute_result"
    }
   ],
   "source": [
    "abc.to_string()"
   ]
  },
  {
   "cell_type": "code",
   "execution_count": 47,
   "id": "0b92ae0b",
   "metadata": {},
   "outputs": [
    {
     "data": {
      "text/plain": [
       "'Minh [123 Nguyen Van Linh, HCM, HCM, 700000, VN, minh@gmail.com, 08234567]'"
      ]
     },
     "execution_count": 47,
     "metadata": {},
     "output_type": "execute_result"
    }
   ],
   "source": [
    "str(oMinh)"
   ]
  }
 ],
 "metadata": {
  "kernelspec": {
   "display_name": "Python 3",
   "language": "python",
   "name": "python3"
  },
  "language_info": {
   "codemirror_mode": {
    "name": "ipython",
    "version": 3
   },
   "file_extension": ".py",
   "mimetype": "text/x-python",
   "name": "python",
   "nbconvert_exporter": "python",
   "pygments_lexer": "ipython3",
   "version": "3.12.1"
  }
 },
 "nbformat": 4,
 "nbformat_minor": 5
}
